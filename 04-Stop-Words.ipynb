{
 "cells": [
  {
   "cell_type": "markdown",
   "metadata": {},
   "source": [
    "# Stop Words\n",
    "Words like \"a\" and \"the\" appear so frequently that they don't require tagging as thoroughly as nouns, verbs and modifiers. We call these *stop words*, and they can be filtered from the text to be processed. spaCy holds a built-in list of some 305 English stop words."
   ]
  },
  {
   "cell_type": "code",
   "execution_count": 1,
   "metadata": {},
   "outputs": [],
   "source": [
    "# Perform standard imports:\n",
    "import spacy\n",
    "nlp = spacy.load('en_core_web_sm')"
   ]
  },
  {
   "cell_type": "code",
   "execution_count": 2,
   "metadata": {},
   "outputs": [
    {
     "name": "stdout",
     "output_type": "stream",
     "text": [
      "{'via', 'every', 'both', 'against', 'are', 'an', 'nevertheless', \"'ve\", 'nine', 'might', '‘d', 'therefore', 'to', 'really', 'than', 'beyond', 'wherein', 'along', 'thereupon', 'whether', 'could', 'also', 'show', 'just', 'did', 'ourselves', 'what', 'beforehand', 'mostly', '’d', \"'s\", 'her', 'always', 'full', 'about', 'either', 'since', 'everywhere', 'twelve', 'eight', 'thence', 'who', 'whoever', 'next', 'in', 'he', 'fifteen', 'very', 'get', 'whenever', 'nor', 'thus', 'hereupon', 'seems', 'yourselves', 'others', 'doing', 'mine', 'then', 'more', 'onto', 'noone', 'thereby', 'least', 'serious', 'from', 'back', 'again', 'between', 'hers', 'see', 'am', 'down', 'were', 'five', 'often', 'regarding', 'eleven', 'ours', 'can', 'they', 'empty', 'through', 'whereafter', 'whither', 'although', 'into', 'whose', 'n’t', 'so', 'anyone', 'that', 'everyone', 'does', 'one', 'because', 'must', 'none', 'anywhere', 'thereafter', 'we', 'per', '’s', 'keep', 'elsewhere', 'whereby', 'you', 'may', '’m', 'this', 'on', 'latter', 'such', 'them', 'cannot', 'namely', 'when', 'yours', 'hundred', 'becoming', 'used', 'alone', 'ten', 'though', 'anyhow', 'would', 'something', 'herein', 'off', '‘s', 'become', 'too', 'move', 'with', '’ve', 'under', 'across', 'myself', 'how', 'here', 'various', 'afterwards', 'own', 'thru', 'has', 'no', 'made', 'part', 'already', 'rather', 'amongst', 'everything', 'therein', 'unless', 'it', 'be', '’ll', '‘ll', 'out', 'call', 'if', 'those', 'should', 'these', 'itself', 'never', 'many', 'ever', 'ca', 'two', 'seem', 'among', 'three', 'his', 'other', 'amount', 'wherever', 'whence', 'without', 'beside', 'neither', 'twenty', 'where', 'another', 'seemed', 'put', 'take', 'hereby', 'your', 'i', 'last', 'each', 'whom', 'upon', 'name', 'behind', 'him', 'first', 'hereafter', 'however', 'sometime', 'whole', 'due', 'besides', 'before', 'was', 'seeming', 'less', 'side', 'indeed', 'its', \"'ll\", 'during', 'sixty', 'do', 'there', 'otherwise', 're', 'until', 'whereupon', 'except', 'forty', 'anyway', \"n't\", 'n‘t', 'why', '‘m', 'being', 'moreover', 'below', 'front', \"'re\", 'same', 'whatever', 'somewhere', 'became', 'but', 'former', 'formerly', 'while', 'nothing', '‘ve', 'yourself', 'almost', 'nobody', 'well', 'for', 'someone', 'top', 'whereas', 'several', 'third', 'latterly', 'us', 'once', 'much', 'their', 'hence', 'enough', 'within', 'towards', 'have', 'say', 'done', 'perhaps', \"'m\", 'been', 'few', 'four', 'throughout', 'a', 'not', 'my', 'somehow', 'using', 'is', 'after', 'bottom', 'toward', 'at', 'give', 'himself', 'over', 'some', 'me', 'please', 'all', 'themselves', 'as', 'only', 'anything', 'our', 'up', 'had', 'even', 'together', 'or', 'by', 'any', 'fifty', 'now', 'else', 'meanwhile', 'of', 'still', 'will', 'most', 'around', 'sometimes', 'which', '‘re', 'further', 'make', 'becomes', '’re', 'yet', 'the', \"'d\", 'herself', 'six', 'she', 'quite', 'and', 'above', 'go', 'nowhere'}\n"
     ]
    }
   ],
   "source": [
    "# Print the set of spaCy's default stop words (remember that sets are unordered):\n",
    "print(nlp.Defaults.stop_words)"
   ]
  },
  {
   "cell_type": "code",
   "execution_count": 3,
   "metadata": {},
   "outputs": [
    {
     "data": {
      "text/plain": [
       "326"
      ]
     },
     "execution_count": 3,
     "metadata": {},
     "output_type": "execute_result"
    }
   ],
   "source": [
    "len(nlp.Defaults.stop_words)"
   ]
  },
  {
   "cell_type": "markdown",
   "metadata": {},
   "source": [
    "## To see if a word is a stop word"
   ]
  },
  {
   "cell_type": "code",
   "execution_count": 4,
   "metadata": {},
   "outputs": [
    {
     "data": {
      "text/plain": [
       "True"
      ]
     },
     "execution_count": 4,
     "metadata": {},
     "output_type": "execute_result"
    }
   ],
   "source": [
    "nlp.vocab['myself'].is_stop"
   ]
  },
  {
   "cell_type": "code",
   "execution_count": 5,
   "metadata": {},
   "outputs": [
    {
     "data": {
      "text/plain": [
       "False"
      ]
     },
     "execution_count": 5,
     "metadata": {},
     "output_type": "execute_result"
    }
   ],
   "source": [
    "nlp.vocab['mystery'].is_stop"
   ]
  },
  {
   "cell_type": "markdown",
   "metadata": {},
   "source": [
    "## To add a stop word\n",
    "There may be times when you wish to add a stop word to the default set. Perhaps you decide that `'btw'` (common shorthand for \"by the way\") should be considered a stop word."
   ]
  },
  {
   "cell_type": "code",
   "execution_count": 6,
   "metadata": {},
   "outputs": [],
   "source": [
    "# Add the word to the set of stop words. Use lowercase!\n",
    "nlp.Defaults.stop_words.add('btw')\n",
    "\n",
    "# Set the stop_word tag on the lexeme\n",
    "nlp.vocab['btw'].is_stop = True"
   ]
  },
  {
   "cell_type": "code",
   "execution_count": 7,
   "metadata": {},
   "outputs": [
    {
     "data": {
      "text/plain": [
       "327"
      ]
     },
     "execution_count": 7,
     "metadata": {},
     "output_type": "execute_result"
    }
   ],
   "source": [
    "len(nlp.Defaults.stop_words)"
   ]
  },
  {
   "cell_type": "code",
   "execution_count": 8,
   "metadata": {},
   "outputs": [
    {
     "data": {
      "text/plain": [
       "True"
      ]
     },
     "execution_count": 8,
     "metadata": {},
     "output_type": "execute_result"
    }
   ],
   "source": [
    "nlp.vocab['btw'].is_stop"
   ]
  },
  {
   "cell_type": "markdown",
   "metadata": {},
   "source": [
    "<font color=green>When adding stop words, always use lowercase. Lexemes are converted to lowercase before being added to **vocab**.</font>"
   ]
  },
  {
   "cell_type": "markdown",
   "metadata": {},
   "source": [
    "## To remove a stop word\n",
    "Alternatively, you may decide that `'beyond'` should not be considered a stop word."
   ]
  },
  {
   "cell_type": "code",
   "execution_count": 9,
   "metadata": {},
   "outputs": [],
   "source": [
    "# Remove the word from the set of stop words\n",
    "nlp.Defaults.stop_words.remove('beyond')\n",
    "\n",
    "# Remove the stop_word tag from the lexeme\n",
    "nlp.vocab['beyond'].is_stop = False"
   ]
  },
  {
   "cell_type": "code",
   "execution_count": 10,
   "metadata": {},
   "outputs": [
    {
     "data": {
      "text/plain": [
       "326"
      ]
     },
     "execution_count": 10,
     "metadata": {},
     "output_type": "execute_result"
    }
   ],
   "source": [
    "len(nlp.Defaults.stop_words)"
   ]
  },
  {
   "cell_type": "code",
   "execution_count": 11,
   "metadata": {},
   "outputs": [
    {
     "data": {
      "text/plain": [
       "False"
      ]
     },
     "execution_count": 11,
     "metadata": {},
     "output_type": "execute_result"
    }
   ],
   "source": [
    "nlp.vocab['beyond'].is_stop"
   ]
  },
  {
   "cell_type": "markdown",
   "metadata": {},
   "source": [
    "Great! Now you should be able to access spaCy's default set of stop words, and add or remove stop words as needed.\n",
    "## Next up: Vocabulary and Matching"
   ]
  }
 ],
 "metadata": {
  "kernelspec": {
   "display_name": "Python 3",
   "language": "python",
   "name": "python3"
  },
  "language_info": {
   "codemirror_mode": {
    "name": "ipython",
    "version": 3
   },
   "file_extension": ".py",
   "mimetype": "text/x-python",
   "name": "python",
   "nbconvert_exporter": "python",
   "pygments_lexer": "ipython3",
   "version": "3.13.5"
  }
 },
 "nbformat": 4,
 "nbformat_minor": 2
}
