{
 "cells": [
  {
   "cell_type": "code",
   "execution_count": 33,
   "metadata": {},
   "outputs": [],
   "source": [
    "from tensorflow.keras.preprocessing.text import one_hot"
   ]
  },
  {
   "cell_type": "code",
   "execution_count": 34,
   "metadata": {},
   "outputs": [],
   "source": [
    "### sentences\n",
    "sent=[  'the glass of milk',\n",
    "     'the glass of juice',\n",
    "     'the cup of tea',\n",
    "    'I am a good boy',\n",
    "     'I am a good developer',\n",
    "     'understand the meaning of words',\n",
    "     'your videos are good',]"
   ]
  },
  {
   "cell_type": "code",
   "execution_count": 35,
   "metadata": {},
   "outputs": [
    {
     "data": {
      "text/plain": [
       "['the glass of milk',\n",
       " 'the glass of juice',\n",
       " 'the cup of tea',\n",
       " 'I am a good boy',\n",
       " 'I am a good developer',\n",
       " 'understand the meaning of words',\n",
       " 'your videos are good']"
      ]
     },
     "execution_count": 35,
     "metadata": {},
     "output_type": "execute_result"
    }
   ],
   "source": [
    "sent"
   ]
  },
  {
   "cell_type": "code",
   "execution_count": 36,
   "metadata": {},
   "outputs": [],
   "source": [
    "## Define the vocabulary size\n",
    "voc_size=10000"
   ]
  },
  {
   "cell_type": "code",
   "execution_count": 37,
   "metadata": {},
   "outputs": [
    {
     "data": {
      "text/plain": [
       "['the glass of milk',\n",
       " 'the glass of juice',\n",
       " 'the cup of tea',\n",
       " 'I am a good boy',\n",
       " 'I am a good developer',\n",
       " 'understand the meaning of words',\n",
       " 'your videos are good']"
      ]
     },
     "execution_count": 37,
     "metadata": {},
     "output_type": "execute_result"
    }
   ],
   "source": [
    "sent"
   ]
  },
  {
   "cell_type": "code",
   "execution_count": 38,
   "metadata": {},
   "outputs": [
    {
     "data": {
      "text/plain": [
       "[[2978, 9161, 4227, 3263],\n",
       " [2978, 9161, 4227, 1353],\n",
       " [2978, 5330, 4227, 5373],\n",
       " [3088, 4130, 6139, 896, 6128],\n",
       " [3088, 4130, 6139, 896, 3008],\n",
       " [2311, 2978, 623, 4227, 9571],\n",
       " [9315, 7801, 2221, 896]]"
      ]
     },
     "execution_count": 38,
     "metadata": {},
     "output_type": "execute_result"
    }
   ],
   "source": [
    "### One Hot Representation\n",
    "one_hot_repr=[one_hot(words,voc_size)for words in sent]\n",
    "one_hot_repr"
   ]
  },
  {
   "cell_type": "code",
   "execution_count": 24,
   "metadata": {},
   "outputs": [],
   "source": [
    "## word Embedding Representation\n",
    "\n",
    "from tensorflow.keras.layers import Embedding\n",
    "from tensorflow.keras.utils import pad_sequences\n",
    "from tensorflow.keras.models import Sequential"
   ]
  },
  {
   "cell_type": "code",
   "execution_count": 25,
   "metadata": {},
   "outputs": [],
   "source": [
    "import numpy as np"
   ]
  },
  {
   "cell_type": "code",
   "execution_count": 39,
   "metadata": {},
   "outputs": [
    {
     "name": "stdout",
     "output_type": "stream",
     "text": [
      "[[   0    0    0    0 2978 9161 4227 3263]\n",
      " [   0    0    0    0 2978 9161 4227 1353]\n",
      " [   0    0    0    0 2978 5330 4227 5373]\n",
      " [   0    0    0 3088 4130 6139  896 6128]\n",
      " [   0    0    0 3088 4130 6139  896 3008]\n",
      " [   0    0    0 2311 2978  623 4227 9571]\n",
      " [   0    0    0    0 9315 7801 2221  896]]\n"
     ]
    }
   ],
   "source": [
    "sent_length=8\n",
    "embedded_docs=pad_sequences(one_hot_repr,padding='pre',maxlen=sent_length)\n",
    "print(embedded_docs)"
   ]
  },
  {
   "cell_type": "code",
   "execution_count": 40,
   "metadata": {},
   "outputs": [],
   "source": [
    "## feature representation\n",
    "dim=10"
   ]
  },
  {
   "cell_type": "code",
   "execution_count": 42,
   "metadata": {},
   "outputs": [],
   "source": [
    "model=Sequential()\n",
    "model.add(Embedding(voc_size,dim,input_length=sent_length))\n",
    "model.compile('adam','mse')"
   ]
  },
  {
   "cell_type": "code",
   "execution_count": 43,
   "metadata": {},
   "outputs": [
    {
     "data": {
      "text/html": [
       "<pre style=\"white-space:pre;overflow-x:auto;line-height:normal;font-family:Menlo,'DejaVu Sans Mono',consolas,'Courier New',monospace\"><span style=\"font-weight: bold\">Model: \"sequential_3\"</span>\n",
       "</pre>\n"
      ],
      "text/plain": [
       "\u001b[1mModel: \"sequential_3\"\u001b[0m\n"
      ]
     },
     "metadata": {},
     "output_type": "display_data"
    },
    {
     "data": {
      "text/html": [
       "<pre style=\"white-space:pre;overflow-x:auto;line-height:normal;font-family:Menlo,'DejaVu Sans Mono',consolas,'Courier New',monospace\">┏━━━━━━━━━━━━━━━━━━━━━━━━━━━━━━━━━┳━━━━━━━━━━━━━━━━━━━━━━━━┳━━━━━━━━━━━━━━━┓\n",
       "┃<span style=\"font-weight: bold\"> Layer (type)                    </span>┃<span style=\"font-weight: bold\"> Output Shape           </span>┃<span style=\"font-weight: bold\">       Param # </span>┃\n",
       "┡━━━━━━━━━━━━━━━━━━━━━━━━━━━━━━━━━╇━━━━━━━━━━━━━━━━━━━━━━━━╇━━━━━━━━━━━━━━━┩\n",
       "│ embedding_3 (<span style=\"color: #0087ff; text-decoration-color: #0087ff\">Embedding</span>)         │ ?                      │   <span style=\"color: #00af00; text-decoration-color: #00af00\">0</span> (unbuilt) │\n",
       "└─────────────────────────────────┴────────────────────────┴───────────────┘\n",
       "</pre>\n"
      ],
      "text/plain": [
       "┏━━━━━━━━━━━━━━━━━━━━━━━━━━━━━━━━━┳━━━━━━━━━━━━━━━━━━━━━━━━┳━━━━━━━━━━━━━━━┓\n",
       "┃\u001b[1m \u001b[0m\u001b[1mLayer (type)                   \u001b[0m\u001b[1m \u001b[0m┃\u001b[1m \u001b[0m\u001b[1mOutput Shape          \u001b[0m\u001b[1m \u001b[0m┃\u001b[1m \u001b[0m\u001b[1m      Param #\u001b[0m\u001b[1m \u001b[0m┃\n",
       "┡━━━━━━━━━━━━━━━━━━━━━━━━━━━━━━━━━╇━━━━━━━━━━━━━━━━━━━━━━━━╇━━━━━━━━━━━━━━━┩\n",
       "│ embedding_3 (\u001b[38;5;33mEmbedding\u001b[0m)         │ ?                      │   \u001b[38;5;34m0\u001b[0m (unbuilt) │\n",
       "└─────────────────────────────────┴────────────────────────┴───────────────┘\n"
      ]
     },
     "metadata": {},
     "output_type": "display_data"
    },
    {
     "data": {
      "text/html": [
       "<pre style=\"white-space:pre;overflow-x:auto;line-height:normal;font-family:Menlo,'DejaVu Sans Mono',consolas,'Courier New',monospace\"><span style=\"font-weight: bold\"> Total params: </span><span style=\"color: #00af00; text-decoration-color: #00af00\">0</span> (0.00 B)\n",
       "</pre>\n"
      ],
      "text/plain": [
       "\u001b[1m Total params: \u001b[0m\u001b[38;5;34m0\u001b[0m (0.00 B)\n"
      ]
     },
     "metadata": {},
     "output_type": "display_data"
    },
    {
     "data": {
      "text/html": [
       "<pre style=\"white-space:pre;overflow-x:auto;line-height:normal;font-family:Menlo,'DejaVu Sans Mono',consolas,'Courier New',monospace\"><span style=\"font-weight: bold\"> Trainable params: </span><span style=\"color: #00af00; text-decoration-color: #00af00\">0</span> (0.00 B)\n",
       "</pre>\n"
      ],
      "text/plain": [
       "\u001b[1m Trainable params: \u001b[0m\u001b[38;5;34m0\u001b[0m (0.00 B)\n"
      ]
     },
     "metadata": {},
     "output_type": "display_data"
    },
    {
     "data": {
      "text/html": [
       "<pre style=\"white-space:pre;overflow-x:auto;line-height:normal;font-family:Menlo,'DejaVu Sans Mono',consolas,'Courier New',monospace\"><span style=\"font-weight: bold\"> Non-trainable params: </span><span style=\"color: #00af00; text-decoration-color: #00af00\">0</span> (0.00 B)\n",
       "</pre>\n"
      ],
      "text/plain": [
       "\u001b[1m Non-trainable params: \u001b[0m\u001b[38;5;34m0\u001b[0m (0.00 B)\n"
      ]
     },
     "metadata": {},
     "output_type": "display_data"
    }
   ],
   "source": [
    "model.summary()"
   ]
  },
  {
   "cell_type": "code",
   "execution_count": 30,
   "metadata": {},
   "outputs": [
    {
     "name": "stdout",
     "output_type": "stream",
     "text": [
      "\u001b[1m1/1\u001b[0m \u001b[32m━━━━━━━━━━━━━━━━━━━━\u001b[0m\u001b[37m\u001b[0m \u001b[1m0s\u001b[0m 86ms/step\n"
     ]
    },
    {
     "data": {
      "text/plain": [
       "array([[[-0.04370049, -0.0252478 ,  0.0151406 ,  0.0052563 ,\n",
       "         -0.04689969,  0.03065181, -0.00050483, -0.03030934,\n",
       "          0.04249206, -0.04168166],\n",
       "        [-0.01152039, -0.01553296, -0.03988264, -0.0402822 ,\n",
       "          0.04387501,  0.0405383 , -0.04073511, -0.00260614,\n",
       "         -0.01862937,  0.02875367],\n",
       "        [-0.02369639, -0.04799727, -0.00531968, -0.01284232,\n",
       "         -0.03964316, -0.04682254,  0.02835793,  0.02637834,\n",
       "          0.046103  , -0.0045131 ],\n",
       "        [-0.01238352, -0.01668018, -0.03916711, -0.04282406,\n",
       "         -0.02738202,  0.00635352, -0.00782263,  0.01789744,\n",
       "         -0.03261536,  0.04087713],\n",
       "        [ 0.01247527,  0.00192151, -0.00517832,  0.04150934,\n",
       "          0.00858226, -0.01963592,  0.04176498, -0.01504352,\n",
       "          0.02756968,  0.0379537 ],\n",
       "        [ 0.01247527,  0.00192151, -0.00517832,  0.04150934,\n",
       "          0.00858226, -0.01963592,  0.04176498, -0.01504352,\n",
       "          0.02756968,  0.0379537 ],\n",
       "        [ 0.01247527,  0.00192151, -0.00517832,  0.04150934,\n",
       "          0.00858226, -0.01963592,  0.04176498, -0.01504352,\n",
       "          0.02756968,  0.0379537 ],\n",
       "        [ 0.01247527,  0.00192151, -0.00517832,  0.04150934,\n",
       "          0.00858226, -0.01963592,  0.04176498, -0.01504352,\n",
       "          0.02756968,  0.0379537 ]],\n",
       "\n",
       "       [[-0.04370049, -0.0252478 ,  0.0151406 ,  0.0052563 ,\n",
       "         -0.04689969,  0.03065181, -0.00050483, -0.03030934,\n",
       "          0.04249206, -0.04168166],\n",
       "        [-0.01152039, -0.01553296, -0.03988264, -0.0402822 ,\n",
       "          0.04387501,  0.0405383 , -0.04073511, -0.00260614,\n",
       "         -0.01862937,  0.02875367],\n",
       "        [-0.02369639, -0.04799727, -0.00531968, -0.01284232,\n",
       "         -0.03964316, -0.04682254,  0.02835793,  0.02637834,\n",
       "          0.046103  , -0.0045131 ],\n",
       "        [-0.03269296, -0.03997732, -0.03948488,  0.00983495,\n",
       "          0.03585413,  0.04163991,  0.03718762, -0.01374118,\n",
       "          0.03680091,  0.03595612],\n",
       "        [ 0.01247527,  0.00192151, -0.00517832,  0.04150934,\n",
       "          0.00858226, -0.01963592,  0.04176498, -0.01504352,\n",
       "          0.02756968,  0.0379537 ],\n",
       "        [ 0.01247527,  0.00192151, -0.00517832,  0.04150934,\n",
       "          0.00858226, -0.01963592,  0.04176498, -0.01504352,\n",
       "          0.02756968,  0.0379537 ],\n",
       "        [ 0.01247527,  0.00192151, -0.00517832,  0.04150934,\n",
       "          0.00858226, -0.01963592,  0.04176498, -0.01504352,\n",
       "          0.02756968,  0.0379537 ],\n",
       "        [ 0.01247527,  0.00192151, -0.00517832,  0.04150934,\n",
       "          0.00858226, -0.01963592,  0.04176498, -0.01504352,\n",
       "          0.02756968,  0.0379537 ]],\n",
       "\n",
       "       [[-0.04370049, -0.0252478 ,  0.0151406 ,  0.0052563 ,\n",
       "         -0.04689969,  0.03065181, -0.00050483, -0.03030934,\n",
       "          0.04249206, -0.04168166],\n",
       "        [ 0.01786849,  0.01652119, -0.01261809,  0.01536807,\n",
       "         -0.02783515, -0.0253488 , -0.02915181, -0.0180871 ,\n",
       "          0.03039585, -0.03820562],\n",
       "        [-0.02369639, -0.04799727, -0.00531968, -0.01284232,\n",
       "         -0.03964316, -0.04682254,  0.02835793,  0.02637834,\n",
       "          0.046103  , -0.0045131 ],\n",
       "        [ 0.00890642, -0.04754856,  0.03017637, -0.02440155,\n",
       "          0.01289773, -0.00173615, -0.03903043,  0.04436734,\n",
       "          0.00035856, -0.01340274],\n",
       "        [ 0.01247527,  0.00192151, -0.00517832,  0.04150934,\n",
       "          0.00858226, -0.01963592,  0.04176498, -0.01504352,\n",
       "          0.02756968,  0.0379537 ],\n",
       "        [ 0.01247527,  0.00192151, -0.00517832,  0.04150934,\n",
       "          0.00858226, -0.01963592,  0.04176498, -0.01504352,\n",
       "          0.02756968,  0.0379537 ],\n",
       "        [ 0.01247527,  0.00192151, -0.00517832,  0.04150934,\n",
       "          0.00858226, -0.01963592,  0.04176498, -0.01504352,\n",
       "          0.02756968,  0.0379537 ],\n",
       "        [ 0.01247527,  0.00192151, -0.00517832,  0.04150934,\n",
       "          0.00858226, -0.01963592,  0.04176498, -0.01504352,\n",
       "          0.02756968,  0.0379537 ]],\n",
       "\n",
       "       [[-0.01889967,  0.03648977,  0.00231345,  0.04625121,\n",
       "          0.03609772,  0.03985287,  0.03116617,  0.03725224,\n",
       "          0.01791811, -0.04505782],\n",
       "        [-0.00552261,  0.0222983 , -0.0254079 ,  0.0048532 ,\n",
       "         -0.02615327,  0.01660306, -0.00367445, -0.00935459,\n",
       "         -0.01103913, -0.03173169],\n",
       "        [ 0.02807314,  0.00296981,  0.00654048,  0.00184517,\n",
       "         -0.0175877 , -0.0170846 , -0.01792754, -0.02235827,\n",
       "         -0.00958785,  0.00078972],\n",
       "        [ 0.01478967, -0.03879484, -0.02446994, -0.04431022,\n",
       "         -0.00395017,  0.00110754, -0.04231446, -0.00234564,\n",
       "         -0.00690312, -0.01909012],\n",
       "        [-0.04574335, -0.03627299,  0.04908991, -0.02703932,\n",
       "         -0.0020204 ,  0.04330715, -0.04354731,  0.03218471,\n",
       "         -0.02468282,  0.03638521],\n",
       "        [ 0.01247527,  0.00192151, -0.00517832,  0.04150934,\n",
       "          0.00858226, -0.01963592,  0.04176498, -0.01504352,\n",
       "          0.02756968,  0.0379537 ],\n",
       "        [ 0.01247527,  0.00192151, -0.00517832,  0.04150934,\n",
       "          0.00858226, -0.01963592,  0.04176498, -0.01504352,\n",
       "          0.02756968,  0.0379537 ],\n",
       "        [ 0.01247527,  0.00192151, -0.00517832,  0.04150934,\n",
       "          0.00858226, -0.01963592,  0.04176498, -0.01504352,\n",
       "          0.02756968,  0.0379537 ]],\n",
       "\n",
       "       [[-0.01889967,  0.03648977,  0.00231345,  0.04625121,\n",
       "          0.03609772,  0.03985287,  0.03116617,  0.03725224,\n",
       "          0.01791811, -0.04505782],\n",
       "        [-0.00552261,  0.0222983 , -0.0254079 ,  0.0048532 ,\n",
       "         -0.02615327,  0.01660306, -0.00367445, -0.00935459,\n",
       "         -0.01103913, -0.03173169],\n",
       "        [ 0.02807314,  0.00296981,  0.00654048,  0.00184517,\n",
       "         -0.0175877 , -0.0170846 , -0.01792754, -0.02235827,\n",
       "         -0.00958785,  0.00078972],\n",
       "        [ 0.01478967, -0.03879484, -0.02446994, -0.04431022,\n",
       "         -0.00395017,  0.00110754, -0.04231446, -0.00234564,\n",
       "         -0.00690312, -0.01909012],\n",
       "        [-0.01839695,  0.01173699, -0.02896272,  0.03085247,\n",
       "          0.01067798, -0.03705244, -0.02990067, -0.0007954 ,\n",
       "          0.00588029,  0.00450914],\n",
       "        [ 0.01247527,  0.00192151, -0.00517832,  0.04150934,\n",
       "          0.00858226, -0.01963592,  0.04176498, -0.01504352,\n",
       "          0.02756968,  0.0379537 ],\n",
       "        [ 0.01247527,  0.00192151, -0.00517832,  0.04150934,\n",
       "          0.00858226, -0.01963592,  0.04176498, -0.01504352,\n",
       "          0.02756968,  0.0379537 ],\n",
       "        [ 0.01247527,  0.00192151, -0.00517832,  0.04150934,\n",
       "          0.00858226, -0.01963592,  0.04176498, -0.01504352,\n",
       "          0.02756968,  0.0379537 ]],\n",
       "\n",
       "       [[-0.0284763 ,  0.03848707,  0.04996014, -0.00376332,\n",
       "          0.00060446,  0.01804646,  0.0144565 , -0.0137394 ,\n",
       "         -0.01200985,  0.03556652],\n",
       "        [-0.04370049, -0.0252478 ,  0.0151406 ,  0.0052563 ,\n",
       "         -0.04689969,  0.03065181, -0.00050483, -0.03030934,\n",
       "          0.04249206, -0.04168166],\n",
       "        [-0.01655654, -0.04500873, -0.00593541,  0.0117641 ,\n",
       "         -0.00487238, -0.03698162,  0.02989485, -0.03175383,\n",
       "         -0.0033708 ,  0.03898033],\n",
       "        [-0.02369639, -0.04799727, -0.00531968, -0.01284232,\n",
       "         -0.03964316, -0.04682254,  0.02835793,  0.02637834,\n",
       "          0.046103  , -0.0045131 ],\n",
       "        [ 0.01656548,  0.0181383 , -0.00950061,  0.03652919,\n",
       "         -0.03692742, -0.0224228 ,  0.01491297,  0.03927186,\n",
       "         -0.04055095,  0.00875564],\n",
       "        [ 0.01247527,  0.00192151, -0.00517832,  0.04150934,\n",
       "          0.00858226, -0.01963592,  0.04176498, -0.01504352,\n",
       "          0.02756968,  0.0379537 ],\n",
       "        [ 0.01247527,  0.00192151, -0.00517832,  0.04150934,\n",
       "          0.00858226, -0.01963592,  0.04176498, -0.01504352,\n",
       "          0.02756968,  0.0379537 ],\n",
       "        [ 0.01247527,  0.00192151, -0.00517832,  0.04150934,\n",
       "          0.00858226, -0.01963592,  0.04176498, -0.01504352,\n",
       "          0.02756968,  0.0379537 ]],\n",
       "\n",
       "       [[-0.02580323,  0.04799451, -0.04258272,  0.02665829,\n",
       "          0.00772   ,  0.01847423, -0.04357448,  0.04649505,\n",
       "         -0.03765731, -0.0006454 ],\n",
       "        [ 0.00146363,  0.04535719, -0.00759754, -0.04431262,\n",
       "          0.01313862, -0.03955913,  0.04443722,  0.02147425,\n",
       "          0.02315691, -0.01238817],\n",
       "        [-0.00656749, -0.02500995, -0.04301461, -0.04716555,\n",
       "          0.03687489,  0.0014584 ,  0.01829311,  0.00975012,\n",
       "         -0.00066377, -0.04745707],\n",
       "        [ 0.01478967, -0.03879484, -0.02446994, -0.04431022,\n",
       "         -0.00395017,  0.00110754, -0.04231446, -0.00234564,\n",
       "         -0.00690312, -0.01909012],\n",
       "        [ 0.01247527,  0.00192151, -0.00517832,  0.04150934,\n",
       "          0.00858226, -0.01963592,  0.04176498, -0.01504352,\n",
       "          0.02756968,  0.0379537 ],\n",
       "        [ 0.01247527,  0.00192151, -0.00517832,  0.04150934,\n",
       "          0.00858226, -0.01963592,  0.04176498, -0.01504352,\n",
       "          0.02756968,  0.0379537 ],\n",
       "        [ 0.01247527,  0.00192151, -0.00517832,  0.04150934,\n",
       "          0.00858226, -0.01963592,  0.04176498, -0.01504352,\n",
       "          0.02756968,  0.0379537 ],\n",
       "        [ 0.01247527,  0.00192151, -0.00517832,  0.04150934,\n",
       "          0.00858226, -0.01963592,  0.04176498, -0.01504352,\n",
       "          0.02756968,  0.0379537 ]]], dtype=float32)"
      ]
     },
     "execution_count": 30,
     "metadata": {},
     "output_type": "execute_result"
    }
   ],
   "source": [
    "model.predict(embedded_docs)"
   ]
  },
  {
   "cell_type": "code",
   "execution_count": 44,
   "metadata": {},
   "outputs": [
    {
     "data": {
      "text/plain": [
       "array([   0,    0,    0,    0, 2978, 9161, 4227, 3263], dtype=int32)"
      ]
     },
     "execution_count": 44,
     "metadata": {},
     "output_type": "execute_result"
    }
   ],
   "source": [
    "embedded_docs[0]"
   ]
  },
  {
   "cell_type": "code",
   "execution_count": 32,
   "metadata": {},
   "outputs": [
    {
     "ename": "ValueError",
     "evalue": "Exception encountered when calling Sequential.call().\n\n\u001b[1mCannot take the length of shape with unknown rank.\u001b[0m\n\nArguments received by Sequential.call():\n  • inputs=tf.Tensor(shape=<unknown>, dtype=int32)\n  • training=False\n  • mask=None\n  • kwargs=<class 'inspect._empty'>",
     "output_type": "error",
     "traceback": [
      "\u001b[31m---------------------------------------------------------------------------\u001b[39m",
      "\u001b[31mValueError\u001b[39m                                Traceback (most recent call last)",
      "\u001b[36mCell\u001b[39m\u001b[36m \u001b[39m\u001b[32mIn[32]\u001b[39m\u001b[32m, line 1\u001b[39m\n\u001b[32m----> \u001b[39m\u001b[32m1\u001b[39m \u001b[43mmodel\u001b[49m\u001b[43m.\u001b[49m\u001b[43mpredict\u001b[49m\u001b[43m(\u001b[49m\u001b[43membedded_docs\u001b[49m\u001b[43m[\u001b[49m\u001b[32;43m0\u001b[39;49m\u001b[43m]\u001b[49m\u001b[43m)\u001b[49m\n",
      "\u001b[36mFile \u001b[39m\u001b[32mc:\\Users\\Karthick Selvam\\AppData\\Local\\Programs\\Python\\Python313\\Lib\\site-packages\\keras\\src\\utils\\traceback_utils.py:122\u001b[39m, in \u001b[36mfilter_traceback.<locals>.error_handler\u001b[39m\u001b[34m(*args, **kwargs)\u001b[39m\n\u001b[32m    119\u001b[39m     filtered_tb = _process_traceback_frames(e.__traceback__)\n\u001b[32m    120\u001b[39m     \u001b[38;5;66;03m# To get the full stack trace, call:\u001b[39;00m\n\u001b[32m    121\u001b[39m     \u001b[38;5;66;03m# `keras.config.disable_traceback_filtering()`\u001b[39;00m\n\u001b[32m--> \u001b[39m\u001b[32m122\u001b[39m     \u001b[38;5;28;01mraise\u001b[39;00m e.with_traceback(filtered_tb) \u001b[38;5;28;01mfrom\u001b[39;00m\u001b[38;5;250m \u001b[39m\u001b[38;5;28;01mNone\u001b[39;00m\n\u001b[32m    123\u001b[39m \u001b[38;5;28;01mfinally\u001b[39;00m:\n\u001b[32m    124\u001b[39m     \u001b[38;5;28;01mdel\u001b[39;00m filtered_tb\n",
      "\u001b[36mFile \u001b[39m\u001b[32mc:\\Users\\Karthick Selvam\\AppData\\Local\\Programs\\Python\\Python313\\Lib\\site-packages\\keras\\src\\utils\\traceback_utils.py:122\u001b[39m, in \u001b[36mfilter_traceback.<locals>.error_handler\u001b[39m\u001b[34m(*args, **kwargs)\u001b[39m\n\u001b[32m    119\u001b[39m     filtered_tb = _process_traceback_frames(e.__traceback__)\n\u001b[32m    120\u001b[39m     \u001b[38;5;66;03m# To get the full stack trace, call:\u001b[39;00m\n\u001b[32m    121\u001b[39m     \u001b[38;5;66;03m# `keras.config.disable_traceback_filtering()`\u001b[39;00m\n\u001b[32m--> \u001b[39m\u001b[32m122\u001b[39m     \u001b[38;5;28;01mraise\u001b[39;00m e.with_traceback(filtered_tb) \u001b[38;5;28;01mfrom\u001b[39;00m\u001b[38;5;250m \u001b[39m\u001b[38;5;28;01mNone\u001b[39;00m\n\u001b[32m    123\u001b[39m \u001b[38;5;28;01mfinally\u001b[39;00m:\n\u001b[32m    124\u001b[39m     \u001b[38;5;28;01mdel\u001b[39;00m filtered_tb\n",
      "\u001b[31mValueError\u001b[39m: Exception encountered when calling Sequential.call().\n\n\u001b[1mCannot take the length of shape with unknown rank.\u001b[0m\n\nArguments received by Sequential.call():\n  • inputs=tf.Tensor(shape=<unknown>, dtype=int32)\n  • training=False\n  • mask=None\n  • kwargs=<class 'inspect._empty'>"
     ]
    }
   ],
   "source": [
    "model.predict(embedded_docs[0])"
   ]
  },
  {
   "cell_type": "code",
   "execution_count": null,
   "metadata": {},
   "outputs": [],
   "source": []
  }
 ],
 "metadata": {
  "kernelspec": {
   "display_name": "Python 3",
   "language": "python",
   "name": "python3"
  },
  "language_info": {
   "codemirror_mode": {
    "name": "ipython",
    "version": 3
   },
   "file_extension": ".py",
   "mimetype": "text/x-python",
   "name": "python",
   "nbconvert_exporter": "python",
   "pygments_lexer": "ipython3",
   "version": "3.13.5"
  }
 },
 "nbformat": 4,
 "nbformat_minor": 2
}
